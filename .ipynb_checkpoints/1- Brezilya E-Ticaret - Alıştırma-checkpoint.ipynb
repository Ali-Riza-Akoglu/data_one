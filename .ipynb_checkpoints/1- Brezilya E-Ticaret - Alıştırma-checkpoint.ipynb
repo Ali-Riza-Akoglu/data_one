{
 "cells": [
  {
   "cell_type": "markdown",
   "metadata": {
    "id": "Tl7O9D0c2jmQ"
   },
   "source": [
    "Gerekli kütüphanleri indir."
   ]
  },
  {
   "cell_type": "markdown",
   "metadata": {},
   "source": [
    "Dosyalardan verileri al. Dataframe çevir."
   ]
  },
  {
   "cell_type": "markdown",
   "metadata": {},
   "source": [
    "Tüm datanın olduğu bir DataFrame oluştur. Sütunlarına bir bak."
   ]
  },
  {
   "cell_type": "markdown",
   "metadata": {},
   "source": [
    "Bir info dataframe'i oluştur. Sütun sayısı, satır sayısı, boş verileri, boş kolon sayısı yer alsın."
   ]
  },
  {
   "cell_type": "markdown",
   "metadata": {},
   "source": [
    "Boş değerleri, unique değerleri kontrol et."
   ]
  },
  {
   "cell_type": "markdown",
   "metadata": {},
   "source": [
    "Tarih olan sütunları zaman serisine dönüştür."
   ]
  },
  {
   "cell_type": "markdown",
   "metadata": {},
   "source": [
    "Daha sonra kullanmak için yıl, ay, gün sütunları oluştur."
   ]
  },
  {
   "cell_type": "markdown",
   "metadata": {},
   "source": [
    "Günün saatleri için dilimler oluştur. Sabah, öğle, akşam vb."
   ]
  },
  {
   "cell_type": "markdown",
   "metadata": {
    "scrolled": true
   },
   "source": [
    "Mevsim dilimleri oluştur."
   ]
  },
  {
   "cell_type": "markdown",
   "metadata": {},
   "source": [
    "# Grafik oluştur.\n",
    "Sipariş trendi\n",
    "Günlere göre dağılım\n",
    "Günün zamanlarına göre dağılım\n",
    "Sezonsal ve saatlik dağılımlar için birer grafik oluştur."
   ]
  },
  {
   "cell_type": "code",
   "execution_count": null,
   "metadata": {},
   "outputs": [],
   "source": [
    "Sipariş sayısana göre ilk 15 kategori grafiğini çiz.\n",
    "İlk 5 kategorinin trendini çiz."
   ]
  },
  {
   "cell_type": "markdown",
   "metadata": {},
   "source": [
    "Özel günlerde enn çok satan kategorileri bul."
   ]
  },
  {
   "cell_type": "markdown",
   "metadata": {},
   "source": [
    "Verilen puanlar için bir grafik\n",
    "Yorum sayılarına göre bir grafik\n",
    "Yorumlu siparişlerin puanları için bir grafik\n",
    "Yorumsuz siparişlerin puanları için bir grafik oluştur."
   ]
  },
  {
   "cell_type": "code",
   "execution_count": null,
   "metadata": {},
   "outputs": [],
   "source": [
    "Ödeme tiplerine gööre bir grafik\n",
    "Kredi kartı taksitlerin durumunu gösteren bir grafik\n",
    "Ödeme tiplerinin trend grafiği"
   ]
  },
  {
   "cell_type": "markdown",
   "metadata": {},
   "source": [
    "Çeşitli korelasyonları gösteren grafikler oluştur.\n",
    "Ürün fiyatı ile kargo fiyatı arasındaki koreleasyonu gösteren bir grafik."
   ]
  }
 ],
 "metadata": {
  "colab": {
   "collapsed_sections": [
    "VPC1WXG82Zm-",
    "jWqEBki924yo",
    "sXCTnJdUM0Uc",
    "ecBhNVbSq3Sh",
    "lc0YBeIJrDdb",
    "jESV7-Nj5A-j",
    "TsPvemU4cAnI",
    "tvtwaFoFYaV-",
    "sQsH8yHxFqkl",
    "v6mNs5A3KaLu"
   ],
   "provenance": []
  },
  "kernelspec": {
   "display_name": "Python 3 (ipykernel)",
   "language": "python",
   "name": "python3"
  },
  "language_info": {
   "codemirror_mode": {
    "name": "ipython",
    "version": 3
   },
   "file_extension": ".py",
   "mimetype": "text/x-python",
   "name": "python",
   "nbconvert_exporter": "python",
   "pygments_lexer": "ipython3",
   "version": "3.12.4"
  }
 },
 "nbformat": 4,
 "nbformat_minor": 4
}
